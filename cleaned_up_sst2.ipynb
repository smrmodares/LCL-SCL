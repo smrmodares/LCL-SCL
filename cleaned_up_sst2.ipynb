{
  "cells": [
    {
      "cell_type": "code",
      "execution_count": null,
      "metadata": {
        "id": "gSth2DKV5h4Y"
      },
      "outputs": [],
      "source": [
        "%pip install transformers tokenizers datasets\n",
        "\n",
        "from tqdm.notebook import tqdm\n",
        "from IPython.display import clear_output\n",
        "\n",
        "import torch\n",
        "import numpy as np\n",
        "import pandas as pd\n",
        "from datasets import Dataset\n",
        "from transformers import AutoModelForMaskedLM, AutoTokenizer, TrainingArguments, Trainer, AutoModelForSequenceClassification, BertModel,ElectraModel\n",
        "clear_output()"
      ]
    },
    {
      "cell_type": "code",
      "execution_count": null,
      "metadata": {
        "colab": {
          "base_uri": "https://localhost:8080/"
        },
        "id": "Ee3g_ul56ech",
        "outputId": "9a082a01-c56e-4569-8c7f-2753f9b544c2"
      },
      "outputs": [
        {
          "output_type": "execute_result",
          "data": {
            "text/plain": [
              "device(type='cuda')"
            ]
          },
          "metadata": {},
          "execution_count": 2
        }
      ],
      "source": [
        "device = torch.device('cuda' if torch.cuda.is_available() else 'cpu')\n",
        "device"
      ]
    },
    {
      "cell_type": "code",
      "execution_count": null,
      "metadata": {
        "id": "iro14mhr6nzm"
      },
      "outputs": [],
      "source": [
        "from datasets import Dataset, load_dataset\n",
        "\n",
        "datasets = load_dataset(\"sst2\")\n",
        "\n",
        "clear_output()"
      ]
    },
    {
      "cell_type": "code",
      "execution_count": null,
      "metadata": {
        "id": "E80D5k5C68-J"
      },
      "outputs": [],
      "source": [
        "checkpoint = \"google/electra-base-discriminator\"\n",
        "# checkpoint = \"bert-base-uncased\"\n",
        "\n",
        "tokenizer = AutoTokenizer.from_pretrained(checkpoint)"
      ]
    },
    {
      "cell_type": "code",
      "execution_count": null,
      "metadata": {
        "id": "_Hry-kIh7La3"
      },
      "outputs": [],
      "source": [
        "def tokenize_function(example):\n",
        "    return tokenizer(example[\"sentence\"], truncation=True)\n",
        "\n",
        "tokenized_train_dataset = datasets['train'].map(tokenize_function, batched=True)\n",
        "tokenized_valid_dataset = datasets['validation'].map(tokenize_function, batched=True)\n",
        "tokenized_test_dataset = datasets['test'].map(tokenize_function, batched=True)\n",
        "\n",
        "clear_output()"
      ]
    },
    {
      "cell_type": "code",
      "execution_count": null,
      "metadata": {
        "id": "I-777Nwi7PNX"
      },
      "outputs": [],
      "source": [
        "tokenized_train_dataset.set_format(\"torch\",columns=[\"input_ids\", \"attention_mask\", \"label\"])\n",
        "tokenized_valid_dataset.set_format(\"torch\",columns=[\"input_ids\", \"attention_mask\", \"label\"])\n",
        "tokenized_test_dataset.set_format(\"torch\",columns=[\"input_ids\", \"attention_mask\", \"label\"])"
      ]
    },
    {
      "cell_type": "code",
      "execution_count": null,
      "metadata": {
        "id": "sXWv6dGS7RxG"
      },
      "outputs": [],
      "source": [
        "from transformers import DataCollatorWithPadding\n",
        "\n",
        "data_collator = DataCollatorWithPadding(tokenizer=tokenizer)"
      ]
    },
    {
      "cell_type": "code",
      "source": [
        "classifier_batch = 16\n",
        "num_epochs = 3\n",
        "t = 100\n",
        "alpha = 0.2\n",
        "num_labels = 2"
      ],
      "metadata": {
        "id": "gHmSj1BEkdxR"
      },
      "execution_count": null,
      "outputs": []
    },
    {
      "cell_type": "code",
      "source": [
        "from torch.utils.data import DataLoader\n",
        "\n",
        "train_dataloader = DataLoader(\n",
        "    tokenized_train_dataset, shuffle=True, batch_size=classifier_batch, collate_fn=data_collator\n",
        ")\n",
        "eval_dataloader = DataLoader(\n",
        "    tokenized_valid_dataset, batch_size=classifier_batch, collate_fn=data_collator\n",
        ")"
      ],
      "metadata": {
        "id": "uWntTEnskbFv"
      },
      "execution_count": null,
      "outputs": []
    },
    {
      "cell_type": "markdown",
      "source": [
        "#SCL\n"
      ],
      "metadata": {
        "id": "EQxMb4WKjflS"
      }
    },
    {
      "cell_type": "code",
      "source": [
        "scl_rep_model = ElectraModel.from_pretrained(checkpoint).to(device)\n",
        "clear_output()"
      ],
      "metadata": {
        "id": "0eh18VKmkALj"
      },
      "execution_count": null,
      "outputs": []
    },
    {
      "cell_type": "code",
      "source": [
        "def SCL(reps, labels):\n",
        "  # t = 0.07\n",
        "  loss = 0\n",
        "  # mean_reps = torch.mean(reps[:, 1:-1, :], axis=1)\n",
        "  mean_reps = reps[:, 0, :]\n",
        "\n",
        "  for i, rep in enumerate(mean_reps):\n",
        "    # loss -= torch.log(logit[labels[i]])\n",
        "    positives = [mean_reps[j].tolist() for j in range(len(labels)) if not j == i and labels[i] == labels[j]]\n",
        "\n",
        "    if len(positives) != 0:\n",
        "      positives = torch.tensor(positives).to(device)\n",
        "      others = torch.cat((mean_reps[0:i], mean_reps[i+1:]))\n",
        "\n",
        "      others_sum = torch.sum(torch.exp((others @ rep) / t))\n",
        "      pos_sum = torch.sum(torch.log(torch.exp((positives @ rep) / t) / others_sum))\n",
        "      loss += -pos_sum/len(positives)\n",
        "\n",
        "  return loss if loss != 0 else torch.tensor(0.0, dtype=torch.float32, device='cuda:0', requires_grad=True)\n",
        ""
      ],
      "metadata": {
        "id": "wMz6OYXwjeox"
      },
      "execution_count": null,
      "outputs": []
    },
    {
      "cell_type": "code",
      "source": [
        "from transformers.modeling_outputs import TokenClassifierOutput\n",
        "from torch import nn\n",
        "\n",
        "class SCLModel(nn.Module):\n",
        "  def __init__(self, rep_model, num_labels):\n",
        "    super(SCLModel,self).__init__()\n",
        "    self.num_labels = num_labels\n",
        "\n",
        "    #Load Model with given checkpoint and extract its body\n",
        "    self.rep_model = rep_model\n",
        "    self.dropout = torch.nn.Dropout(0.1)\n",
        "    self.classifier = torch.nn.Linear(768,num_labels) # load and initialize weights\n",
        "    self.layer = torch.nn.Linear(768,768)\n",
        "\n",
        "  def forward(self, input_ids=None, attention_mask=None,labels=None):\n",
        "    #Extract outputs from the body\n",
        "    reps = self.rep_model(input_ids=input_ids, attention_mask=attention_mask)\n",
        "    scl = SCL(reps[0], labels)\n",
        "    #Add custom layers\n",
        "\n",
        "    sequence_output = self.dropout(reps[0]) #outputs[0]=last hidden state\n",
        "    x = self.layer(sequence_output[:,0,:].view(-1,768))\n",
        "    act = nn.functional.relu(x)\n",
        "    logits = self.classifier(act)\n",
        "    # logits = self.classifier(sequence_output[:,0,:].view(-1,768)) # calculate losses\n",
        "    Le = None\n",
        "    if labels is not None:\n",
        "      loss_fct = torch.nn.CrossEntropyLoss()\n",
        "      Le = loss_fct(logits.view(-1, self.num_labels), labels.view(-1))\n",
        "\n",
        "    return TokenClassifierOutput(loss=alpha*Le + (1-alpha) * scl, logits=logits, hidden_states=reps.hidden_states,attentions=reps.attentions)"
      ],
      "metadata": {
        "id": "xae71MeIkHND"
      },
      "execution_count": null,
      "outputs": []
    },
    {
      "cell_type": "code",
      "source": [
        "scl_model = SCLModel(rep_model=scl_rep_model,num_labels=num_labels).to(device)"
      ],
      "metadata": {
        "id": "uNiAje1flUmO"
      },
      "execution_count": null,
      "outputs": []
    },
    {
      "cell_type": "code",
      "source": [
        "from transformers import AdamW,get_scheduler\n",
        "\n",
        "scl_optimizer = AdamW(scl_model.parameters(), lr=1e-5)\n",
        "\n",
        "num_training_steps = num_epochs * len(train_dataloader)\n",
        "lr_scheduler = get_scheduler(\n",
        "    \"linear\",\n",
        "    optimizer=scl_optimizer,\n",
        "    num_warmup_steps=0,\n",
        "    num_training_steps=num_training_steps,\n",
        ")\n",
        "print(num_training_steps)"
      ],
      "metadata": {
        "colab": {
          "base_uri": "https://localhost:8080/"
        },
        "id": "23ggGb2WlZwq",
        "outputId": "3df2233a-3f80-4e07-fa7a-20eba8b059d9"
      },
      "execution_count": null,
      "outputs": [
        {
          "output_type": "stream",
          "name": "stdout",
          "text": [
            "12630\n"
          ]
        },
        {
          "output_type": "stream",
          "name": "stderr",
          "text": [
            "/usr/local/lib/python3.8/dist-packages/transformers/optimization.py:306: FutureWarning: This implementation of AdamW is deprecated and will be removed in a future version. Use the PyTorch implementation torch.optim.AdamW instead, or set `no_deprecation_warning=True` to disable this warning\n",
            "  warnings.warn(\n"
          ]
        }
      ]
    },
    {
      "cell_type": "code",
      "source": [
        "from datasets import load_metric\n",
        "scl_f1_metric = load_metric(\"f1\", average='micro')\n"
      ],
      "metadata": {
        "id": "eqxcRQX7lmzM",
        "colab": {
          "base_uri": "https://localhost:8080/"
        },
        "outputId": "2d29c4d1-bbdc-4382-8d6c-e096e90f5020"
      },
      "execution_count": null,
      "outputs": [
        {
          "output_type": "stream",
          "name": "stderr",
          "text": [
            "<ipython-input-15-6e2962b066f2>:2: FutureWarning: load_metric is deprecated and will be removed in the next major version of datasets. Use 'evaluate.load' instead, from the new library 🤗 Evaluate: https://huggingface.co/docs/evaluate\n",
            "  scl_f1_metric = load_metric(\"f1\", average='micro')\n"
          ]
        }
      ]
    },
    {
      "cell_type": "code",
      "source": [
        "from tqdm.auto import tqdm\n",
        "\n",
        "progress_bar_train = tqdm(range(num_training_steps))\n",
        "progress_bar_eval = tqdm(range(num_epochs * len(eval_dataloader)))\n",
        "\n",
        "\n",
        "for epoch in range(num_epochs):\n",
        "  scl_model.train()\n",
        "  for batch in train_dataloader:\n",
        "      batch = {k: v.to(device) for k, v in batch.items()}\n",
        "      outputs = scl_model(**batch)\n",
        "      loss = outputs.loss\n",
        "      loss.backward()\n",
        "\n",
        "      scl_optimizer.step()\n",
        "      lr_scheduler.step()\n",
        "      scl_optimizer.zero_grad()\n",
        "      progress_bar_train.update(1)\n",
        "\n",
        "  scl_model.eval()\n",
        "  for batch in eval_dataloader:\n",
        "    batch = {k: v.to(device) for k, v in batch.items()}\n",
        "    with torch.no_grad():\n",
        "        outputs = scl_model(**batch)\n",
        "\n",
        "    logits = outputs.logits\n",
        "    predictions = torch.argmax(logits, dim=-1)\n",
        "    scl_f1_metric.add_batch(predictions=predictions, references=batch[\"labels\"])\n",
        "    # acc_metric.add_batch(predictions=predictions, references=batch[\"labels\"])\n",
        "    progress_bar_eval.update(1)\n",
        "\n",
        "\n",
        "  print(scl_f1_metric.compute(average='micro'))"
      ],
      "metadata": {
        "colab": {
          "base_uri": "https://localhost:8080/",
          "height": 137,
          "referenced_widgets": [
            "260fa22a694848958f29353923382d4b",
            "60ed059f716b4199a2ceec77699a081f",
            "c6e83a1f0e2a4287a54f2fdc258712f4",
            "770a221525d94c958de6de30afd45fbc",
            "764b4069b218419ebe621e0755ff2a5d",
            "c286e87ad0ca468ebb82620b3aacdcfd",
            "9e70f553c8814f28811ece917646caab",
            "e4ef6e9c4e644d22a633085722d1771a",
            "191c19850bba43aeacaad95a5264ef1a",
            "9aee560cd5564bb8a34b9da6ea60c307",
            "1372dd5327e5484097a2246eb9ac20ac",
            "6fa18b3af11240d187c3d121b410e146",
            "83e9fab46a33442ea01939f1b2b6877f",
            "d358e7dc423a43ad9b0e523160a2a5fe",
            "02453d4e64244234b4f86e33a01bf299",
            "e2363ab73a174ca18583ad3e73da996f",
            "6bbe84f193e24da897d98923f8652fb7",
            "285cc4d97dbb4a529cfd82340881ae77",
            "fd728661f3e348e2b368aa21be4ba5a2",
            "2f1d52058a534e029ccabe7a611b9731",
            "d0e263e1965a4fd8ae7493eb1104660d",
            "57ac2c2b6f4b44248d8f5a498e83d8b6"
          ]
        },
        "id": "4C2xhT4OltVR",
        "outputId": "87f7acd7-385b-46e5-b8a2-b0f7da078fdd"
      },
      "execution_count": null,
      "outputs": [
        {
          "output_type": "display_data",
          "data": {
            "text/plain": [
              "  0%|          | 0/12630 [00:00<?, ?it/s]"
            ],
            "application/vnd.jupyter.widget-view+json": {
              "version_major": 2,
              "version_minor": 0,
              "model_id": "260fa22a694848958f29353923382d4b"
            }
          },
          "metadata": {}
        },
        {
          "output_type": "display_data",
          "data": {
            "text/plain": [
              "  0%|          | 0/165 [00:00<?, ?it/s]"
            ],
            "application/vnd.jupyter.widget-view+json": {
              "version_major": 2,
              "version_minor": 0,
              "model_id": "6fa18b3af11240d187c3d121b410e146"
            }
          },
          "metadata": {}
        },
        {
          "output_type": "stream",
          "name": "stderr",
          "text": [
            "You're using a ElectraTokenizerFast tokenizer. Please note that with a fast tokenizer, using the `__call__` method is faster than using a method to encode the text followed by a call to the `pad` method to get a padded encoding.\n"
          ]
        },
        {
          "output_type": "stream",
          "name": "stdout",
          "text": [
            "{'f1': 0.9461009174311925}\n"
          ]
        }
      ]
    },
    {
      "cell_type": "code",
      "source": [
        "scl_model.eval()\n",
        "\n",
        "test_dataloader = DataLoader(\n",
        "    tokenized_test_dataset, batch_size=classifier_batch, collate_fn=data_collator\n",
        ")\n",
        "\n",
        "for batch in test_dataloader:\n",
        "    batch = {k: v.to(device) for k, v in batch.items()}\n",
        "    with torch.no_grad():\n",
        "        outputs = scl_model(**batch)\n",
        "\n",
        "    logits = outputs.logits\n",
        "    predictions = torch.argmax(logits, dim=-1)\n",
        "    scl_f1_metric.add_batch(predictions=predictions, references=batch[\"labels\"])\n",
        "\n",
        "scl_f1_metric.compute(average='micro')"
      ],
      "metadata": {
        "id": "gkJmDomul_Vz"
      },
      "execution_count": null,
      "outputs": []
    },
    {
      "cell_type": "markdown",
      "source": [
        "#LCL"
      ],
      "metadata": {
        "id": "jZg2PkwUjjbx"
      }
    },
    {
      "cell_type": "code",
      "source": [
        "lcl_rep_model = ElectraModel.from_pretrained(checkpoint).to(device)\n",
        "weight_model = AutoModelForSequenceClassification.from_pretrained(checkpoint, num_labels=num_labels).to(device)\n",
        "\n",
        "clear_output()"
      ],
      "metadata": {
        "id": "PbbCKhxQjwQZ"
      },
      "execution_count": null,
      "outputs": []
    },
    {
      "cell_type": "code",
      "execution_count": null,
      "metadata": {
        "id": "JojQvAUE7VIY"
      },
      "outputs": [],
      "source": [
        "def LCL(reps, w, labels):\n",
        "  # t = 0.07\n",
        "  loss = 0\n",
        "  w = torch.nn.functional.softmax(w, dim=1)[range(labels.shape[0]), labels]\n",
        "  # mean_reps = torch.mean(reps[:, 1:-1, :], axis=1)\n",
        "  mean_reps = reps[:, 0, :]\n",
        "\n",
        "  for i, rep in enumerate(mean_reps):\n",
        "    # loss -= torch.log(logit[labels[i]])\n",
        "    positives = [mean_reps[j].tolist() for j in range(len(labels)) if not j == i and labels[i] == labels[j]]\n",
        "    p_w = [w[j].tolist() for j in range(len(labels)) if not j == i and labels[i] == labels[j]]\n",
        "\n",
        "    if len(positives) != 0:\n",
        "      positives = torch.tensor(positives).to(device)\n",
        "      p_w = torch.tensor(p_w).to(device)\n",
        "      others = torch.cat((mean_reps[0:i], mean_reps[i+1:]))\n",
        "      o_w = torch.cat((w[0:i], w[i+1:]))\n",
        "\n",
        "      others_sum = torch.sum(o_w * torch.exp((others @ rep) / t))\n",
        "      pos_sum = torch.sum(p_w * torch.log(torch.exp((positives @ rep) / t) / others_sum))\n",
        "      loss += -pos_sum/len(positives)\n",
        "\n",
        "  return loss if loss != 0 else torch.tensor(0.0, dtype=torch.float32, device='cuda:0', requires_grad=True)\n",
        ""
      ]
    },
    {
      "cell_type": "code",
      "execution_count": null,
      "metadata": {
        "id": "aqSS0X-L9Ri3"
      },
      "outputs": [],
      "source": [
        "from transformers.modeling_outputs import TokenClassifierOutput\n",
        "from torch import nn\n",
        "\n",
        "\n",
        "class LCLModel(nn.Module):\n",
        "  def __init__(self, rep_model, weight_model, num_labels):\n",
        "    super(LCLModel,self).__init__()\n",
        "    self.num_labels = num_labels\n",
        "\n",
        "    #Load Model with given checkpoint and extract its body\n",
        "    self.rep_model = rep_model\n",
        "    self.weight_model = weight_model\n",
        "    self.dropout = torch.nn.Dropout(0.1)\n",
        "    self.weight_classifier = torch.nn.Linear(num_labels, num_labels)\n",
        "    self.classifier = torch.nn.Linear(768,num_labels) # load and initialize weights\n",
        "    self.layer = torch.nn.Linear(768,768)\n",
        "  def forward(self, input_ids=None, attention_mask=None,labels=None):\n",
        "    #Extract outputs from the body\n",
        "    reps = self.rep_model(input_ids=input_ids, attention_mask=attention_mask)\n",
        "    w = self.weight_model(input_ids=input_ids, attention_mask=attention_mask)\n",
        "\n",
        "    lcl = LCL(reps[0], w[0], labels)\n",
        "    #Add custom layers\n",
        "\n",
        "\n",
        "    sequence_output = self.dropout(w[0]) #outputs[0]=last hidden state\n",
        "    logits = self.weight_classifier(sequence_output.view(-1, self.num_labels)) # calculate losses\n",
        "    Lw = None\n",
        "    if labels is not None:\n",
        "      loss_fct = torch.nn.CrossEntropyLoss()\n",
        "      Lw = loss_fct(logits.view(-1, self.num_labels), labels.view(-1))\n",
        "\n",
        "\n",
        "    sequence_output = self.dropout(reps[0]) #outputs[0]=last hidden state\n",
        "    x= self.layer(sequence_output[:,0,:].view(-1,768))\n",
        "    act = nn.functional.relu(x)\n",
        "    logits = self.classifier(act)\n",
        "    # logits = self.classifier(sequence_output[:,0,:].view(-1,768)) # calculate losses\n",
        "    Le = None\n",
        "    if labels is not None:\n",
        "      loss_fct = torch.nn.CrossEntropyLoss()\n",
        "      Le = loss_fct(logits.view(-1, self.num_labels), labels.view(-1))\n",
        "\n",
        "    return TokenClassifierOutput(loss=alpha*(Le + Lw) + (1-alpha) * lcl, logits=logits, hidden_states=reps.hidden_states,attentions=reps.attentions)"
      ]
    },
    {
      "cell_type": "code",
      "execution_count": null,
      "metadata": {
        "id": "Os76H2XH9bs9"
      },
      "outputs": [],
      "source": [
        "lcl_model = LCLModel(rep_model=lcl_rep_model, weight_model=weight_model,num_labels=5).to(device)\n"
      ]
    },
    {
      "cell_type": "code",
      "execution_count": null,
      "metadata": {
        "id": "OxUJqJWc9d0z"
      },
      "outputs": [],
      "source": [
        "from transformers import AdamW,get_scheduler\n",
        "\n",
        "optimizer = AdamW(lcl_model.parameters(), lr=1e-5)\n",
        "\n",
        "num_training_steps = num_epochs * len(train_dataloader)\n",
        "lr_scheduler = get_scheduler(\n",
        "    \"linear\",\n",
        "    optimizer=optimizer,\n",
        "    num_warmup_steps=0,\n",
        "    num_training_steps=num_training_steps,\n",
        ")\n",
        "print(num_training_steps)"
      ]
    },
    {
      "cell_type": "code",
      "execution_count": null,
      "metadata": {
        "id": "bSZRv-xR9gG6"
      },
      "outputs": [],
      "source": [
        "from datasets import load_metric\n",
        "f1_metric = load_metric(\"f1\", average='micro')\n",
        "acc_metric = load_metric(\"accuracy\")\n"
      ]
    },
    {
      "cell_type": "code",
      "execution_count": null,
      "metadata": {
        "id": "cJAy0AUt9k9c"
      },
      "outputs": [],
      "source": [
        "from tqdm.auto import tqdm\n",
        "\n",
        "progress_bar_train = tqdm(range(num_training_steps))\n",
        "progress_bar_eval = tqdm(range(num_epochs * len(eval_dataloader)))\n",
        "\n",
        "\n",
        "for epoch in range(num_epochs):\n",
        "  lcl_model.train()\n",
        "  for batch in train_dataloader:\n",
        "      batch = {k: v.to(device) for k, v in batch.items()}\n",
        "      outputs = lcl_model(**batch)\n",
        "      loss = outputs.loss\n",
        "      loss.backward()\n",
        "\n",
        "      optimizer.step()\n",
        "      lr_scheduler.step()\n",
        "      optimizer.zero_grad()\n",
        "      progress_bar_train.update(1)\n",
        "\n",
        "  lcl_model.eval()\n",
        "  for batch in eval_dataloader:\n",
        "    batch = {k: v.to(device) for k, v in batch.items()}\n",
        "    with torch.no_grad():\n",
        "        outputs = lcl_model(**batch)\n",
        "\n",
        "    logits = outputs.logits\n",
        "    predictions = torch.argmax(logits, dim=-1)\n",
        "    f1_metric.add_batch(predictions=predictions, references=batch[\"labels\"])\n",
        "    # acc_metric.add_batch(predictions=predictions, references=batch[\"labels\"])\n",
        "    progress_bar_eval.update(1)\n",
        "\n",
        "  print(f1_metric.compute(average='micro'))\n",
        ""
      ]
    },
    {
      "cell_type": "code",
      "execution_count": null,
      "metadata": {
        "id": "UJAFpQj5Cvfb"
      },
      "outputs": [],
      "source": [
        "lcl_model.eval()\n",
        "\n",
        "test_dataloader = DataLoader(\n",
        "    tokenized_test_dataset, batch_size=classifier_batch, collate_fn=data_collator\n",
        ")\n",
        "\n",
        "for batch in test_dataloader:\n",
        "    batch = {k: v.to(device) for k, v in batch.items()}\n",
        "    with torch.no_grad():\n",
        "        outputs = lcl_model(**batch)\n",
        "\n",
        "    logits = outputs.logits\n",
        "    predictions = torch.argmax(logits, dim=-1)\n",
        "    f1_metric.add_batch(predictions=predictions, references=batch[\"labels\"])\n",
        "\n",
        "f1_metric.compute(average='micro')"
      ]
    }
  ],
  "metadata": {
    "accelerator": "GPU",
    "colab": {
      "provenance": []
    },
    "gpuClass": "standard",
    "kernelspec": {
      "display_name": "Python 3 (ipykernel)",
      "language": "python",
      "name": "python3"
    },
    "language_info": {
      "codemirror_mode": {
        "name": "ipython",
        "version": 3
      },
      "file_extension": ".py",
      "mimetype": "text/x-python",
      "name": "python",
      "nbconvert_exporter": "python",
      "pygments_lexer": "ipython3",
      "version": "3.7.13"
    },
    "widgets": {
      "application/vnd.jupyter.widget-state+json": {
        "260fa22a694848958f29353923382d4b": {
          "model_module": "@jupyter-widgets/controls",
          "model_name": "HBoxModel",
          "model_module_version": "1.5.0",
          "state": {
            "_dom_classes": [],
            "_model_module": "@jupyter-widgets/controls",
            "_model_module_version": "1.5.0",
            "_model_name": "HBoxModel",
            "_view_count": null,
            "_view_module": "@jupyter-widgets/controls",
            "_view_module_version": "1.5.0",
            "_view_name": "HBoxView",
            "box_style": "",
            "children": [
              "IPY_MODEL_60ed059f716b4199a2ceec77699a081f",
              "IPY_MODEL_c6e83a1f0e2a4287a54f2fdc258712f4",
              "IPY_MODEL_770a221525d94c958de6de30afd45fbc"
            ],
            "layout": "IPY_MODEL_764b4069b218419ebe621e0755ff2a5d"
          }
        },
        "60ed059f716b4199a2ceec77699a081f": {
          "model_module": "@jupyter-widgets/controls",
          "model_name": "HTMLModel",
          "model_module_version": "1.5.0",
          "state": {
            "_dom_classes": [],
            "_model_module": "@jupyter-widgets/controls",
            "_model_module_version": "1.5.0",
            "_model_name": "HTMLModel",
            "_view_count": null,
            "_view_module": "@jupyter-widgets/controls",
            "_view_module_version": "1.5.0",
            "_view_name": "HTMLView",
            "description": "",
            "description_tooltip": null,
            "layout": "IPY_MODEL_c286e87ad0ca468ebb82620b3aacdcfd",
            "placeholder": "​",
            "style": "IPY_MODEL_9e70f553c8814f28811ece917646caab",
            "value": " 34%"
          }
        },
        "c6e83a1f0e2a4287a54f2fdc258712f4": {
          "model_module": "@jupyter-widgets/controls",
          "model_name": "FloatProgressModel",
          "model_module_version": "1.5.0",
          "state": {
            "_dom_classes": [],
            "_model_module": "@jupyter-widgets/controls",
            "_model_module_version": "1.5.0",
            "_model_name": "FloatProgressModel",
            "_view_count": null,
            "_view_module": "@jupyter-widgets/controls",
            "_view_module_version": "1.5.0",
            "_view_name": "ProgressView",
            "bar_style": "",
            "description": "",
            "description_tooltip": null,
            "layout": "IPY_MODEL_e4ef6e9c4e644d22a633085722d1771a",
            "max": 12630,
            "min": 0,
            "orientation": "horizontal",
            "style": "IPY_MODEL_191c19850bba43aeacaad95a5264ef1a",
            "value": 4348
          }
        },
        "770a221525d94c958de6de30afd45fbc": {
          "model_module": "@jupyter-widgets/controls",
          "model_name": "HTMLModel",
          "model_module_version": "1.5.0",
          "state": {
            "_dom_classes": [],
            "_model_module": "@jupyter-widgets/controls",
            "_model_module_version": "1.5.0",
            "_model_name": "HTMLModel",
            "_view_count": null,
            "_view_module": "@jupyter-widgets/controls",
            "_view_module_version": "1.5.0",
            "_view_name": "HTMLView",
            "description": "",
            "description_tooltip": null,
            "layout": "IPY_MODEL_9aee560cd5564bb8a34b9da6ea60c307",
            "placeholder": "​",
            "style": "IPY_MODEL_1372dd5327e5484097a2246eb9ac20ac",
            "value": " 4348/12630 [10:42&lt;19:42,  7.01it/s]"
          }
        },
        "764b4069b218419ebe621e0755ff2a5d": {
          "model_module": "@jupyter-widgets/base",
          "model_name": "LayoutModel",
          "model_module_version": "1.2.0",
          "state": {
            "_model_module": "@jupyter-widgets/base",
            "_model_module_version": "1.2.0",
            "_model_name": "LayoutModel",
            "_view_count": null,
            "_view_module": "@jupyter-widgets/base",
            "_view_module_version": "1.2.0",
            "_view_name": "LayoutView",
            "align_content": null,
            "align_items": null,
            "align_self": null,
            "border": null,
            "bottom": null,
            "display": null,
            "flex": null,
            "flex_flow": null,
            "grid_area": null,
            "grid_auto_columns": null,
            "grid_auto_flow": null,
            "grid_auto_rows": null,
            "grid_column": null,
            "grid_gap": null,
            "grid_row": null,
            "grid_template_areas": null,
            "grid_template_columns": null,
            "grid_template_rows": null,
            "height": null,
            "justify_content": null,
            "justify_items": null,
            "left": null,
            "margin": null,
            "max_height": null,
            "max_width": null,
            "min_height": null,
            "min_width": null,
            "object_fit": null,
            "object_position": null,
            "order": null,
            "overflow": null,
            "overflow_x": null,
            "overflow_y": null,
            "padding": null,
            "right": null,
            "top": null,
            "visibility": null,
            "width": null
          }
        },
        "c286e87ad0ca468ebb82620b3aacdcfd": {
          "model_module": "@jupyter-widgets/base",
          "model_name": "LayoutModel",
          "model_module_version": "1.2.0",
          "state": {
            "_model_module": "@jupyter-widgets/base",
            "_model_module_version": "1.2.0",
            "_model_name": "LayoutModel",
            "_view_count": null,
            "_view_module": "@jupyter-widgets/base",
            "_view_module_version": "1.2.0",
            "_view_name": "LayoutView",
            "align_content": null,
            "align_items": null,
            "align_self": null,
            "border": null,
            "bottom": null,
            "display": null,
            "flex": null,
            "flex_flow": null,
            "grid_area": null,
            "grid_auto_columns": null,
            "grid_auto_flow": null,
            "grid_auto_rows": null,
            "grid_column": null,
            "grid_gap": null,
            "grid_row": null,
            "grid_template_areas": null,
            "grid_template_columns": null,
            "grid_template_rows": null,
            "height": null,
            "justify_content": null,
            "justify_items": null,
            "left": null,
            "margin": null,
            "max_height": null,
            "max_width": null,
            "min_height": null,
            "min_width": null,
            "object_fit": null,
            "object_position": null,
            "order": null,
            "overflow": null,
            "overflow_x": null,
            "overflow_y": null,
            "padding": null,
            "right": null,
            "top": null,
            "visibility": null,
            "width": null
          }
        },
        "9e70f553c8814f28811ece917646caab": {
          "model_module": "@jupyter-widgets/controls",
          "model_name": "DescriptionStyleModel",
          "model_module_version": "1.5.0",
          "state": {
            "_model_module": "@jupyter-widgets/controls",
            "_model_module_version": "1.5.0",
            "_model_name": "DescriptionStyleModel",
            "_view_count": null,
            "_view_module": "@jupyter-widgets/base",
            "_view_module_version": "1.2.0",
            "_view_name": "StyleView",
            "description_width": ""
          }
        },
        "e4ef6e9c4e644d22a633085722d1771a": {
          "model_module": "@jupyter-widgets/base",
          "model_name": "LayoutModel",
          "model_module_version": "1.2.0",
          "state": {
            "_model_module": "@jupyter-widgets/base",
            "_model_module_version": "1.2.0",
            "_model_name": "LayoutModel",
            "_view_count": null,
            "_view_module": "@jupyter-widgets/base",
            "_view_module_version": "1.2.0",
            "_view_name": "LayoutView",
            "align_content": null,
            "align_items": null,
            "align_self": null,
            "border": null,
            "bottom": null,
            "display": null,
            "flex": null,
            "flex_flow": null,
            "grid_area": null,
            "grid_auto_columns": null,
            "grid_auto_flow": null,
            "grid_auto_rows": null,
            "grid_column": null,
            "grid_gap": null,
            "grid_row": null,
            "grid_template_areas": null,
            "grid_template_columns": null,
            "grid_template_rows": null,
            "height": null,
            "justify_content": null,
            "justify_items": null,
            "left": null,
            "margin": null,
            "max_height": null,
            "max_width": null,
            "min_height": null,
            "min_width": null,
            "object_fit": null,
            "object_position": null,
            "order": null,
            "overflow": null,
            "overflow_x": null,
            "overflow_y": null,
            "padding": null,
            "right": null,
            "top": null,
            "visibility": null,
            "width": null
          }
        },
        "191c19850bba43aeacaad95a5264ef1a": {
          "model_module": "@jupyter-widgets/controls",
          "model_name": "ProgressStyleModel",
          "model_module_version": "1.5.0",
          "state": {
            "_model_module": "@jupyter-widgets/controls",
            "_model_module_version": "1.5.0",
            "_model_name": "ProgressStyleModel",
            "_view_count": null,
            "_view_module": "@jupyter-widgets/base",
            "_view_module_version": "1.2.0",
            "_view_name": "StyleView",
            "bar_color": null,
            "description_width": ""
          }
        },
        "9aee560cd5564bb8a34b9da6ea60c307": {
          "model_module": "@jupyter-widgets/base",
          "model_name": "LayoutModel",
          "model_module_version": "1.2.0",
          "state": {
            "_model_module": "@jupyter-widgets/base",
            "_model_module_version": "1.2.0",
            "_model_name": "LayoutModel",
            "_view_count": null,
            "_view_module": "@jupyter-widgets/base",
            "_view_module_version": "1.2.0",
            "_view_name": "LayoutView",
            "align_content": null,
            "align_items": null,
            "align_self": null,
            "border": null,
            "bottom": null,
            "display": null,
            "flex": null,
            "flex_flow": null,
            "grid_area": null,
            "grid_auto_columns": null,
            "grid_auto_flow": null,
            "grid_auto_rows": null,
            "grid_column": null,
            "grid_gap": null,
            "grid_row": null,
            "grid_template_areas": null,
            "grid_template_columns": null,
            "grid_template_rows": null,
            "height": null,
            "justify_content": null,
            "justify_items": null,
            "left": null,
            "margin": null,
            "max_height": null,
            "max_width": null,
            "min_height": null,
            "min_width": null,
            "object_fit": null,
            "object_position": null,
            "order": null,
            "overflow": null,
            "overflow_x": null,
            "overflow_y": null,
            "padding": null,
            "right": null,
            "top": null,
            "visibility": null,
            "width": null
          }
        },
        "1372dd5327e5484097a2246eb9ac20ac": {
          "model_module": "@jupyter-widgets/controls",
          "model_name": "DescriptionStyleModel",
          "model_module_version": "1.5.0",
          "state": {
            "_model_module": "@jupyter-widgets/controls",
            "_model_module_version": "1.5.0",
            "_model_name": "DescriptionStyleModel",
            "_view_count": null,
            "_view_module": "@jupyter-widgets/base",
            "_view_module_version": "1.2.0",
            "_view_name": "StyleView",
            "description_width": ""
          }
        },
        "6fa18b3af11240d187c3d121b410e146": {
          "model_module": "@jupyter-widgets/controls",
          "model_name": "HBoxModel",
          "model_module_version": "1.5.0",
          "state": {
            "_dom_classes": [],
            "_model_module": "@jupyter-widgets/controls",
            "_model_module_version": "1.5.0",
            "_model_name": "HBoxModel",
            "_view_count": null,
            "_view_module": "@jupyter-widgets/controls",
            "_view_module_version": "1.5.0",
            "_view_name": "HBoxView",
            "box_style": "",
            "children": [
              "IPY_MODEL_83e9fab46a33442ea01939f1b2b6877f",
              "IPY_MODEL_d358e7dc423a43ad9b0e523160a2a5fe",
              "IPY_MODEL_02453d4e64244234b4f86e33a01bf299"
            ],
            "layout": "IPY_MODEL_e2363ab73a174ca18583ad3e73da996f"
          }
        },
        "83e9fab46a33442ea01939f1b2b6877f": {
          "model_module": "@jupyter-widgets/controls",
          "model_name": "HTMLModel",
          "model_module_version": "1.5.0",
          "state": {
            "_dom_classes": [],
            "_model_module": "@jupyter-widgets/controls",
            "_model_module_version": "1.5.0",
            "_model_name": "HTMLModel",
            "_view_count": null,
            "_view_module": "@jupyter-widgets/controls",
            "_view_module_version": "1.5.0",
            "_view_name": "HTMLView",
            "description": "",
            "description_tooltip": null,
            "layout": "IPY_MODEL_6bbe84f193e24da897d98923f8652fb7",
            "placeholder": "​",
            "style": "IPY_MODEL_285cc4d97dbb4a529cfd82340881ae77",
            "value": " 33%"
          }
        },
        "d358e7dc423a43ad9b0e523160a2a5fe": {
          "model_module": "@jupyter-widgets/controls",
          "model_name": "FloatProgressModel",
          "model_module_version": "1.5.0",
          "state": {
            "_dom_classes": [],
            "_model_module": "@jupyter-widgets/controls",
            "_model_module_version": "1.5.0",
            "_model_name": "FloatProgressModel",
            "_view_count": null,
            "_view_module": "@jupyter-widgets/controls",
            "_view_module_version": "1.5.0",
            "_view_name": "ProgressView",
            "bar_style": "",
            "description": "",
            "description_tooltip": null,
            "layout": "IPY_MODEL_fd728661f3e348e2b368aa21be4ba5a2",
            "max": 165,
            "min": 0,
            "orientation": "horizontal",
            "style": "IPY_MODEL_2f1d52058a534e029ccabe7a611b9731",
            "value": 55
          }
        },
        "02453d4e64244234b4f86e33a01bf299": {
          "model_module": "@jupyter-widgets/controls",
          "model_name": "HTMLModel",
          "model_module_version": "1.5.0",
          "state": {
            "_dom_classes": [],
            "_model_module": "@jupyter-widgets/controls",
            "_model_module_version": "1.5.0",
            "_model_name": "HTMLModel",
            "_view_count": null,
            "_view_module": "@jupyter-widgets/controls",
            "_view_module_version": "1.5.0",
            "_view_name": "HTMLView",
            "description": "",
            "description_tooltip": null,
            "layout": "IPY_MODEL_d0e263e1965a4fd8ae7493eb1104660d",
            "placeholder": "​",
            "style": "IPY_MODEL_57ac2c2b6f4b44248d8f5a498e83d8b6",
            "value": " 55/165 [10:32&lt;00:07, 14.04it/s]"
          }
        },
        "e2363ab73a174ca18583ad3e73da996f": {
          "model_module": "@jupyter-widgets/base",
          "model_name": "LayoutModel",
          "model_module_version": "1.2.0",
          "state": {
            "_model_module": "@jupyter-widgets/base",
            "_model_module_version": "1.2.0",
            "_model_name": "LayoutModel",
            "_view_count": null,
            "_view_module": "@jupyter-widgets/base",
            "_view_module_version": "1.2.0",
            "_view_name": "LayoutView",
            "align_content": null,
            "align_items": null,
            "align_self": null,
            "border": null,
            "bottom": null,
            "display": null,
            "flex": null,
            "flex_flow": null,
            "grid_area": null,
            "grid_auto_columns": null,
            "grid_auto_flow": null,
            "grid_auto_rows": null,
            "grid_column": null,
            "grid_gap": null,
            "grid_row": null,
            "grid_template_areas": null,
            "grid_template_columns": null,
            "grid_template_rows": null,
            "height": null,
            "justify_content": null,
            "justify_items": null,
            "left": null,
            "margin": null,
            "max_height": null,
            "max_width": null,
            "min_height": null,
            "min_width": null,
            "object_fit": null,
            "object_position": null,
            "order": null,
            "overflow": null,
            "overflow_x": null,
            "overflow_y": null,
            "padding": null,
            "right": null,
            "top": null,
            "visibility": null,
            "width": null
          }
        },
        "6bbe84f193e24da897d98923f8652fb7": {
          "model_module": "@jupyter-widgets/base",
          "model_name": "LayoutModel",
          "model_module_version": "1.2.0",
          "state": {
            "_model_module": "@jupyter-widgets/base",
            "_model_module_version": "1.2.0",
            "_model_name": "LayoutModel",
            "_view_count": null,
            "_view_module": "@jupyter-widgets/base",
            "_view_module_version": "1.2.0",
            "_view_name": "LayoutView",
            "align_content": null,
            "align_items": null,
            "align_self": null,
            "border": null,
            "bottom": null,
            "display": null,
            "flex": null,
            "flex_flow": null,
            "grid_area": null,
            "grid_auto_columns": null,
            "grid_auto_flow": null,
            "grid_auto_rows": null,
            "grid_column": null,
            "grid_gap": null,
            "grid_row": null,
            "grid_template_areas": null,
            "grid_template_columns": null,
            "grid_template_rows": null,
            "height": null,
            "justify_content": null,
            "justify_items": null,
            "left": null,
            "margin": null,
            "max_height": null,
            "max_width": null,
            "min_height": null,
            "min_width": null,
            "object_fit": null,
            "object_position": null,
            "order": null,
            "overflow": null,
            "overflow_x": null,
            "overflow_y": null,
            "padding": null,
            "right": null,
            "top": null,
            "visibility": null,
            "width": null
          }
        },
        "285cc4d97dbb4a529cfd82340881ae77": {
          "model_module": "@jupyter-widgets/controls",
          "model_name": "DescriptionStyleModel",
          "model_module_version": "1.5.0",
          "state": {
            "_model_module": "@jupyter-widgets/controls",
            "_model_module_version": "1.5.0",
            "_model_name": "DescriptionStyleModel",
            "_view_count": null,
            "_view_module": "@jupyter-widgets/base",
            "_view_module_version": "1.2.0",
            "_view_name": "StyleView",
            "description_width": ""
          }
        },
        "fd728661f3e348e2b368aa21be4ba5a2": {
          "model_module": "@jupyter-widgets/base",
          "model_name": "LayoutModel",
          "model_module_version": "1.2.0",
          "state": {
            "_model_module": "@jupyter-widgets/base",
            "_model_module_version": "1.2.0",
            "_model_name": "LayoutModel",
            "_view_count": null,
            "_view_module": "@jupyter-widgets/base",
            "_view_module_version": "1.2.0",
            "_view_name": "LayoutView",
            "align_content": null,
            "align_items": null,
            "align_self": null,
            "border": null,
            "bottom": null,
            "display": null,
            "flex": null,
            "flex_flow": null,
            "grid_area": null,
            "grid_auto_columns": null,
            "grid_auto_flow": null,
            "grid_auto_rows": null,
            "grid_column": null,
            "grid_gap": null,
            "grid_row": null,
            "grid_template_areas": null,
            "grid_template_columns": null,
            "grid_template_rows": null,
            "height": null,
            "justify_content": null,
            "justify_items": null,
            "left": null,
            "margin": null,
            "max_height": null,
            "max_width": null,
            "min_height": null,
            "min_width": null,
            "object_fit": null,
            "object_position": null,
            "order": null,
            "overflow": null,
            "overflow_x": null,
            "overflow_y": null,
            "padding": null,
            "right": null,
            "top": null,
            "visibility": null,
            "width": null
          }
        },
        "2f1d52058a534e029ccabe7a611b9731": {
          "model_module": "@jupyter-widgets/controls",
          "model_name": "ProgressStyleModel",
          "model_module_version": "1.5.0",
          "state": {
            "_model_module": "@jupyter-widgets/controls",
            "_model_module_version": "1.5.0",
            "_model_name": "ProgressStyleModel",
            "_view_count": null,
            "_view_module": "@jupyter-widgets/base",
            "_view_module_version": "1.2.0",
            "_view_name": "StyleView",
            "bar_color": null,
            "description_width": ""
          }
        },
        "d0e263e1965a4fd8ae7493eb1104660d": {
          "model_module": "@jupyter-widgets/base",
          "model_name": "LayoutModel",
          "model_module_version": "1.2.0",
          "state": {
            "_model_module": "@jupyter-widgets/base",
            "_model_module_version": "1.2.0",
            "_model_name": "LayoutModel",
            "_view_count": null,
            "_view_module": "@jupyter-widgets/base",
            "_view_module_version": "1.2.0",
            "_view_name": "LayoutView",
            "align_content": null,
            "align_items": null,
            "align_self": null,
            "border": null,
            "bottom": null,
            "display": null,
            "flex": null,
            "flex_flow": null,
            "grid_area": null,
            "grid_auto_columns": null,
            "grid_auto_flow": null,
            "grid_auto_rows": null,
            "grid_column": null,
            "grid_gap": null,
            "grid_row": null,
            "grid_template_areas": null,
            "grid_template_columns": null,
            "grid_template_rows": null,
            "height": null,
            "justify_content": null,
            "justify_items": null,
            "left": null,
            "margin": null,
            "max_height": null,
            "max_width": null,
            "min_height": null,
            "min_width": null,
            "object_fit": null,
            "object_position": null,
            "order": null,
            "overflow": null,
            "overflow_x": null,
            "overflow_y": null,
            "padding": null,
            "right": null,
            "top": null,
            "visibility": null,
            "width": null
          }
        },
        "57ac2c2b6f4b44248d8f5a498e83d8b6": {
          "model_module": "@jupyter-widgets/controls",
          "model_name": "DescriptionStyleModel",
          "model_module_version": "1.5.0",
          "state": {
            "_model_module": "@jupyter-widgets/controls",
            "_model_module_version": "1.5.0",
            "_model_name": "DescriptionStyleModel",
            "_view_count": null,
            "_view_module": "@jupyter-widgets/base",
            "_view_module_version": "1.2.0",
            "_view_name": "StyleView",
            "description_width": ""
          }
        }
      }
    }
  },
  "nbformat": 4,
  "nbformat_minor": 0
}